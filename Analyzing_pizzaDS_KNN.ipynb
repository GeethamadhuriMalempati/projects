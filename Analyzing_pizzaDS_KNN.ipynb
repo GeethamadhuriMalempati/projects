{
 "cells": [
  {
   "cell_type": "code",
   "execution_count": 15,
   "metadata": {},
   "outputs": [],
   "source": [
    "import matplotlib.pyplot as plt\n",
    "import pandas as pd\n",
    "import numpy as np\n",
    "import operator\n",
    "import random\n",
    "import seaborn as sns\n",
    "from collections import Counter\n",
    "from matplotlib import cm\n",
    "from mpl_toolkits.mplot3d import axes3d  # necessary for 3d projection\n",
    "from pandas.plotting import scatter_matrix\n",
    "from sklearn.model_selection import train_test_split, KFold, LeaveOneOut, cross_val_score, cross_val_predict\n",
    "from sklearn.neighbors import KNeighborsClassifier\n",
    "#from sklearn.cross_validation import cross_val_score, cross_val_predict\n",
    "from sklearn import metrics\n",
    "from sklearn.metrics import r2_score"
   ]
  },
  {
   "cell_type": "code",
   "execution_count": 2,
   "metadata": {},
   "outputs": [
    {
     "data": {
      "text/html": [
       "<div>\n",
       "<style scoped>\n",
       "    .dataframe tbody tr th:only-of-type {\n",
       "        vertical-align: middle;\n",
       "    }\n",
       "\n",
       "    .dataframe tbody tr th {\n",
       "        vertical-align: top;\n",
       "    }\n",
       "\n",
       "    .dataframe thead th {\n",
       "        text-align: right;\n",
       "    }\n",
       "</style>\n",
       "<table border=\"1\" class=\"dataframe\">\n",
       "  <thead>\n",
       "    <tr style=\"text-align: right;\">\n",
       "      <th></th>\n",
       "      <th>brand</th>\n",
       "      <th>id</th>\n",
       "      <th>mois</th>\n",
       "      <th>prot</th>\n",
       "      <th>fat</th>\n",
       "      <th>ash</th>\n",
       "      <th>sodium</th>\n",
       "      <th>carb</th>\n",
       "      <th>cal</th>\n",
       "    </tr>\n",
       "  </thead>\n",
       "  <tbody>\n",
       "    <tr>\n",
       "      <th>0</th>\n",
       "      <td>A</td>\n",
       "      <td>14069</td>\n",
       "      <td>27.82</td>\n",
       "      <td>21.43</td>\n",
       "      <td>44.87</td>\n",
       "      <td>5.11</td>\n",
       "      <td>1.77</td>\n",
       "      <td>0.77</td>\n",
       "      <td>4.93</td>\n",
       "    </tr>\n",
       "    <tr>\n",
       "      <th>1</th>\n",
       "      <td>A</td>\n",
       "      <td>14053</td>\n",
       "      <td>28.49</td>\n",
       "      <td>21.26</td>\n",
       "      <td>43.89</td>\n",
       "      <td>5.34</td>\n",
       "      <td>1.79</td>\n",
       "      <td>1.02</td>\n",
       "      <td>4.84</td>\n",
       "    </tr>\n",
       "    <tr>\n",
       "      <th>2</th>\n",
       "      <td>A</td>\n",
       "      <td>14025</td>\n",
       "      <td>28.35</td>\n",
       "      <td>19.99</td>\n",
       "      <td>45.78</td>\n",
       "      <td>5.08</td>\n",
       "      <td>1.63</td>\n",
       "      <td>0.80</td>\n",
       "      <td>4.95</td>\n",
       "    </tr>\n",
       "    <tr>\n",
       "      <th>3</th>\n",
       "      <td>A</td>\n",
       "      <td>14016</td>\n",
       "      <td>30.55</td>\n",
       "      <td>20.15</td>\n",
       "      <td>43.13</td>\n",
       "      <td>4.79</td>\n",
       "      <td>1.61</td>\n",
       "      <td>1.38</td>\n",
       "      <td>4.74</td>\n",
       "    </tr>\n",
       "    <tr>\n",
       "      <th>4</th>\n",
       "      <td>A</td>\n",
       "      <td>14005</td>\n",
       "      <td>30.49</td>\n",
       "      <td>21.28</td>\n",
       "      <td>41.65</td>\n",
       "      <td>4.82</td>\n",
       "      <td>1.64</td>\n",
       "      <td>1.76</td>\n",
       "      <td>4.67</td>\n",
       "    </tr>\n",
       "  </tbody>\n",
       "</table>\n",
       "</div>"
      ],
      "text/plain": [
       "  brand     id   mois   prot    fat   ash  sodium  carb   cal\n",
       "0     A  14069  27.82  21.43  44.87  5.11    1.77  0.77  4.93\n",
       "1     A  14053  28.49  21.26  43.89  5.34    1.79  1.02  4.84\n",
       "2     A  14025  28.35  19.99  45.78  5.08    1.63  0.80  4.95\n",
       "3     A  14016  30.55  20.15  43.13  4.79    1.61  1.38  4.74\n",
       "4     A  14005  30.49  21.28  41.65  4.82    1.64  1.76  4.67"
      ]
     },
     "execution_count": 2,
     "metadata": {},
     "output_type": "execute_result"
    }
   ],
   "source": [
    "data = pd.read_csv(r'C:\\Users\\Geetha\\Desktop\\Applied ML class\\pizza.csv')\n",
    "data.head()"
   ]
  },
  {
   "cell_type": "code",
   "execution_count": 3,
   "metadata": {},
   "outputs": [],
   "source": [
    "X = data[data.columns[2:]]\n",
    "Y = data[data.columns[0]]"
   ]
  },
  {
   "cell_type": "code",
   "execution_count": 5,
   "metadata": {},
   "outputs": [
    {
     "data": {
      "text/html": [
       "<div>\n",
       "<style scoped>\n",
       "    .dataframe tbody tr th:only-of-type {\n",
       "        vertical-align: middle;\n",
       "    }\n",
       "\n",
       "    .dataframe tbody tr th {\n",
       "        vertical-align: top;\n",
       "    }\n",
       "\n",
       "    .dataframe thead th {\n",
       "        text-align: right;\n",
       "    }\n",
       "</style>\n",
       "<table border=\"1\" class=\"dataframe\">\n",
       "  <thead>\n",
       "    <tr style=\"text-align: right;\">\n",
       "      <th></th>\n",
       "      <th>brand</th>\n",
       "      <th>id</th>\n",
       "      <th>mois</th>\n",
       "      <th>prot</th>\n",
       "      <th>fat</th>\n",
       "      <th>ash</th>\n",
       "      <th>sodium</th>\n",
       "      <th>carb</th>\n",
       "      <th>cal</th>\n",
       "    </tr>\n",
       "  </thead>\n",
       "  <tbody>\n",
       "    <tr>\n",
       "      <th>0</th>\n",
       "      <td>0</td>\n",
       "      <td>14069</td>\n",
       "      <td>27.82</td>\n",
       "      <td>21.43</td>\n",
       "      <td>44.87</td>\n",
       "      <td>5.11</td>\n",
       "      <td>1.77</td>\n",
       "      <td>0.77</td>\n",
       "      <td>4.93</td>\n",
       "    </tr>\n",
       "    <tr>\n",
       "      <th>1</th>\n",
       "      <td>0</td>\n",
       "      <td>14053</td>\n",
       "      <td>28.49</td>\n",
       "      <td>21.26</td>\n",
       "      <td>43.89</td>\n",
       "      <td>5.34</td>\n",
       "      <td>1.79</td>\n",
       "      <td>1.02</td>\n",
       "      <td>4.84</td>\n",
       "    </tr>\n",
       "    <tr>\n",
       "      <th>2</th>\n",
       "      <td>0</td>\n",
       "      <td>14025</td>\n",
       "      <td>28.35</td>\n",
       "      <td>19.99</td>\n",
       "      <td>45.78</td>\n",
       "      <td>5.08</td>\n",
       "      <td>1.63</td>\n",
       "      <td>0.80</td>\n",
       "      <td>4.95</td>\n",
       "    </tr>\n",
       "    <tr>\n",
       "      <th>3</th>\n",
       "      <td>0</td>\n",
       "      <td>14016</td>\n",
       "      <td>30.55</td>\n",
       "      <td>20.15</td>\n",
       "      <td>43.13</td>\n",
       "      <td>4.79</td>\n",
       "      <td>1.61</td>\n",
       "      <td>1.38</td>\n",
       "      <td>4.74</td>\n",
       "    </tr>\n",
       "    <tr>\n",
       "      <th>4</th>\n",
       "      <td>0</td>\n",
       "      <td>14005</td>\n",
       "      <td>30.49</td>\n",
       "      <td>21.28</td>\n",
       "      <td>41.65</td>\n",
       "      <td>4.82</td>\n",
       "      <td>1.64</td>\n",
       "      <td>1.76</td>\n",
       "      <td>4.67</td>\n",
       "    </tr>\n",
       "  </tbody>\n",
       "</table>\n",
       "</div>"
      ],
      "text/plain": [
       "   brand     id   mois   prot    fat   ash  sodium  carb   cal\n",
       "0      0  14069  27.82  21.43  44.87  5.11    1.77  0.77  4.93\n",
       "1      0  14053  28.49  21.26  43.89  5.34    1.79  1.02  4.84\n",
       "2      0  14025  28.35  19.99  45.78  5.08    1.63  0.80  4.95\n",
       "3      0  14016  30.55  20.15  43.13  4.79    1.61  1.38  4.74\n",
       "4      0  14005  30.49  21.28  41.65  4.82    1.64  1.76  4.67"
      ]
     },
     "execution_count": 5,
     "metadata": {},
     "output_type": "execute_result"
    }
   ],
   "source": [
    "#Assigned unique values to brand\n",
    "Y_dict = dict(zip(Y.unique(), range(0, len(Y.unique()))))\n",
    "data.brand.replace(Y_dict, inplace=True)\n",
    "data.head()"
   ]
  },
  {
   "cell_type": "code",
   "execution_count": 6,
   "metadata": {},
   "outputs": [
    {
     "name": "stdout",
     "output_type": "stream",
     "text": [
      "The dataset has 7 features\\attributes.\n",
      "Those features\\attributes are: \n",
      "mois, prot, fat, ash, sodium, carb, cal\n",
      "There are 10 classes within the dataset and a total of 300 instances.\n"
     ]
    }
   ],
   "source": [
    "print(\"The dataset has {0} features\\\\attributes.\\nThose features\\\\attributes are: \".format(len(X.columns)))\n",
    "print(*(X.columns.array), sep=\", \")\n",
    "print(\"There are {0} classes within the dataset and a total of {1} instances.\".format(len(Y_dict), len(Y)))"
   ]
  },
  {
   "cell_type": "code",
   "execution_count": 8,
   "metadata": {},
   "outputs": [
    {
     "data": {
      "text/html": [
       "<div>\n",
       "<style scoped>\n",
       "    .dataframe tbody tr th:only-of-type {\n",
       "        vertical-align: middle;\n",
       "    }\n",
       "\n",
       "    .dataframe tbody tr th {\n",
       "        vertical-align: top;\n",
       "    }\n",
       "\n",
       "    .dataframe thead th {\n",
       "        text-align: right;\n",
       "    }\n",
       "</style>\n",
       "<table border=\"1\" class=\"dataframe\">\n",
       "  <thead>\n",
       "    <tr style=\"text-align: right;\">\n",
       "      <th></th>\n",
       "      <th>brand</th>\n",
       "      <th>id</th>\n",
       "      <th>mois</th>\n",
       "      <th>prot</th>\n",
       "      <th>fat</th>\n",
       "      <th>ash</th>\n",
       "      <th>sodium</th>\n",
       "      <th>carb</th>\n",
       "      <th>cal</th>\n",
       "    </tr>\n",
       "  </thead>\n",
       "  <tbody>\n",
       "    <tr>\n",
       "      <th>count</th>\n",
       "      <td>300.000000</td>\n",
       "      <td>300.000000</td>\n",
       "      <td>300.000000</td>\n",
       "      <td>300.000000</td>\n",
       "      <td>300.000000</td>\n",
       "      <td>300.000000</td>\n",
       "      <td>300.000000</td>\n",
       "      <td>300.000000</td>\n",
       "      <td>300.000000</td>\n",
       "    </tr>\n",
       "    <tr>\n",
       "      <th>mean</th>\n",
       "      <td>4.560000</td>\n",
       "      <td>20841.040000</td>\n",
       "      <td>40.903067</td>\n",
       "      <td>13.373567</td>\n",
       "      <td>20.229533</td>\n",
       "      <td>2.633233</td>\n",
       "      <td>0.669400</td>\n",
       "      <td>22.864767</td>\n",
       "      <td>3.271000</td>\n",
       "    </tr>\n",
       "    <tr>\n",
       "      <th>std</th>\n",
       "      <td>2.889214</td>\n",
       "      <td>6962.917222</td>\n",
       "      <td>9.552987</td>\n",
       "      <td>6.434392</td>\n",
       "      <td>8.975658</td>\n",
       "      <td>1.269724</td>\n",
       "      <td>0.370358</td>\n",
       "      <td>18.029722</td>\n",
       "      <td>0.620034</td>\n",
       "    </tr>\n",
       "    <tr>\n",
       "      <th>min</th>\n",
       "      <td>0.000000</td>\n",
       "      <td>14003.000000</td>\n",
       "      <td>25.000000</td>\n",
       "      <td>6.980000</td>\n",
       "      <td>4.380000</td>\n",
       "      <td>1.170000</td>\n",
       "      <td>0.250000</td>\n",
       "      <td>0.510000</td>\n",
       "      <td>2.180000</td>\n",
       "    </tr>\n",
       "    <tr>\n",
       "      <th>25%</th>\n",
       "      <td>2.000000</td>\n",
       "      <td>14093.750000</td>\n",
       "      <td>30.902500</td>\n",
       "      <td>8.060000</td>\n",
       "      <td>14.770000</td>\n",
       "      <td>1.450000</td>\n",
       "      <td>0.450000</td>\n",
       "      <td>3.467500</td>\n",
       "      <td>2.910000</td>\n",
       "    </tr>\n",
       "    <tr>\n",
       "      <th>50%</th>\n",
       "      <td>5.000000</td>\n",
       "      <td>24020.500000</td>\n",
       "      <td>43.300000</td>\n",
       "      <td>10.440000</td>\n",
       "      <td>17.135000</td>\n",
       "      <td>2.225000</td>\n",
       "      <td>0.490000</td>\n",
       "      <td>23.245000</td>\n",
       "      <td>3.215000</td>\n",
       "    </tr>\n",
       "    <tr>\n",
       "      <th>75%</th>\n",
       "      <td>7.000000</td>\n",
       "      <td>24110.250000</td>\n",
       "      <td>49.115000</td>\n",
       "      <td>20.022500</td>\n",
       "      <td>21.435000</td>\n",
       "      <td>3.592500</td>\n",
       "      <td>0.702500</td>\n",
       "      <td>41.337500</td>\n",
       "      <td>3.520000</td>\n",
       "    </tr>\n",
       "    <tr>\n",
       "      <th>max</th>\n",
       "      <td>9.000000</td>\n",
       "      <td>34045.000000</td>\n",
       "      <td>57.220000</td>\n",
       "      <td>28.480000</td>\n",
       "      <td>47.200000</td>\n",
       "      <td>5.430000</td>\n",
       "      <td>1.790000</td>\n",
       "      <td>48.640000</td>\n",
       "      <td>5.080000</td>\n",
       "    </tr>\n",
       "  </tbody>\n",
       "</table>\n",
       "</div>"
      ],
      "text/plain": [
       "            brand            id        mois        prot         fat  \\\n",
       "count  300.000000    300.000000  300.000000  300.000000  300.000000   \n",
       "mean     4.560000  20841.040000   40.903067   13.373567   20.229533   \n",
       "std      2.889214   6962.917222    9.552987    6.434392    8.975658   \n",
       "min      0.000000  14003.000000   25.000000    6.980000    4.380000   \n",
       "25%      2.000000  14093.750000   30.902500    8.060000   14.770000   \n",
       "50%      5.000000  24020.500000   43.300000   10.440000   17.135000   \n",
       "75%      7.000000  24110.250000   49.115000   20.022500   21.435000   \n",
       "max      9.000000  34045.000000   57.220000   28.480000   47.200000   \n",
       "\n",
       "              ash      sodium        carb         cal  \n",
       "count  300.000000  300.000000  300.000000  300.000000  \n",
       "mean     2.633233    0.669400   22.864767    3.271000  \n",
       "std      1.269724    0.370358   18.029722    0.620034  \n",
       "min      1.170000    0.250000    0.510000    2.180000  \n",
       "25%      1.450000    0.450000    3.467500    2.910000  \n",
       "50%      2.225000    0.490000   23.245000    3.215000  \n",
       "75%      3.592500    0.702500   41.337500    3.520000  \n",
       "max      5.430000    1.790000   48.640000    5.080000  "
      ]
     },
     "execution_count": 8,
     "metadata": {},
     "output_type": "execute_result"
    }
   ],
   "source": [
    "data.describe()"
   ]
  },
  {
   "cell_type": "code",
   "execution_count": 9,
   "metadata": {},
   "outputs": [
    {
     "name": "stdout",
     "output_type": "stream",
     "text": [
      "<class 'pandas.core.frame.DataFrame'>\n",
      "RangeIndex: 300 entries, 0 to 299\n",
      "Data columns (total 9 columns):\n",
      "brand     300 non-null int64\n",
      "id        300 non-null int64\n",
      "mois      300 non-null float64\n",
      "prot      300 non-null float64\n",
      "fat       300 non-null float64\n",
      "ash       300 non-null float64\n",
      "sodium    300 non-null float64\n",
      "carb      300 non-null float64\n",
      "cal       300 non-null float64\n",
      "dtypes: float64(7), int64(2)\n",
      "memory usage: 21.2 KB\n"
     ]
    }
   ],
   "source": [
    "data.info()"
   ]
  },
  {
   "cell_type": "code",
   "execution_count": 11,
   "metadata": {},
   "outputs": [
    {
     "data": {
      "text/plain": [
       "array([0, 1, 2, 3, 4, 5, 6, 7, 8, 9], dtype=int64)"
      ]
     },
     "execution_count": 11,
     "metadata": {},
     "output_type": "execute_result"
    }
   ],
   "source": [
    "#unique values of column Brand.\n",
    "u_brand=data['brand'].unique()\n",
    "u_brand"
   ]
  },
  {
   "cell_type": "code",
   "execution_count": 16,
   "metadata": {},
   "outputs": [
    {
     "data": {
      "text/plain": [
       "<matplotlib.axes._subplots.AxesSubplot at 0x22e690de7f0>"
      ]
     },
     "execution_count": 16,
     "metadata": {},
     "output_type": "execute_result"
    },
    {
     "data": {
      "image/png": "[encoded data removed]",
      "text/plain": [
       "<Figure size 432x432 with 1 Axes>"
      ]
     },
     "metadata": {
      "needs_background": "light"
     },
     "output_type": "display_data"
    }
   ],
   "source": [
    "#brand Vs Count\n",
    "plt.figure(figsize = (6,6))\n",
    "plt.title('brand vs count')\n",
    "sns.countplot(x='brand',data=data)"
   ]
  },
  {
   "cell_type": "code",
   "execution_count": 14,
   "metadata": {},
   "outputs": [],
   "source": [
    "#test train split- default(75%, 25%)\n",
    "X_train, X_test, Y_train, Y_test = train_test_split(X, Y, random_state=0)"
   ]
  },
  {
   "cell_type": "code",
   "execution_count": 17,
   "metadata": {},
   "outputs": [
    {
     "data": {
      "image/png": "[encoded data removed]",
      "text/plain": [
       "<Figure size 360x360 with 49 Axes>"
      ]
     },
     "metadata": {
      "needs_background": "light"
     },
     "output_type": "display_data"
    }
   ],
   "source": [
    "#Relation between independent variables\n",
    "cmap = cm.get_cmap('gnuplot')\n",
    "scatterHist = scatter_matrix(X_train, c=Y_train, marker='o', s=20, hist_kwds={'bins': 15}, figsize=(5, 5), cmap=cmap)"
   ]
  },
  {
   "cell_type": "code",
   "execution_count": 19,
   "metadata": {},
   "outputs": [
    {
     "name": "stdout",
     "output_type": "stream",
     "text": [
      "Accuracy of model is:  0.8133333333333334\n"
     ]
    }
   ],
   "source": [
    "#Verifying for best combination\n",
    "numberNeighbors = [3, 5, 7]\n",
    "weights = ['uniform', 'distance']\n",
    "algorithms = ['auto', 'ball_tree', 'kd_tree', 'brute']\n",
    "leafSizes = [10, 20, 30]    # for BallTree and KDTree\n",
    "powers = [1, 2] # manhattan distance and euclidean distance\n",
    "metrics = ['euclidean', 'manhattan', 'chebyshev', 'minkowski']\n",
    "bestKNN = []\n",
    "bestScore = 0\n",
    "for number in numberNeighbors:\n",
    "    for weight in weights:\n",
    "        for algorithm in algorithms:\n",
    "            for size in leafSizes:\n",
    "                for power in powers:\n",
    "                    for metric in metrics:\n",
    "                        currentKNN = KNeighborsClassifier(number, weight, algorithm, size, power, metric)\n",
    "                        currentKNN.fit(X_train, Y_train)\n",
    "                        currentScore = currentKNN.score(X_test, Y_test)\n",
    "                        if currentScore > bestScore:\n",
    "                            bestScore = currentScore\n",
    "                            bestKNN.clear()\n",
    "                            bestKNN.append(currentKNN)\n",
    "                        elif currentScore == bestScore:\n",
    "                            bestKNN.append(currentKNN)\n",
    "                        else:\n",
    "                            continue\n",
    "print(\"Accuracy of model is: \", bestScore)"
   ]
  },
  {
   "cell_type": "code",
   "execution_count": 21,
   "metadata": {},
   "outputs": [
    {
     "name": "stdout",
     "output_type": "stream",
     "text": [
      "Unique Predictions out of all combinations:\n",
      " [[7 6 0 7 8 4 4 4 1 3 9 0 6 8 0 2 9 3 7 5 5 3 7 7 7 3 6 9 7 9 3 2 0 7 7 5\n",
      "  5 6 9 0 7 3 2 1 1 4 4 2 0 1 2 4 5 3 1 8 6 0 9 6 7 7 2 9 9 4 8 3 0 1 5 7\n",
      "  9 0 7]\n",
      " [7 6 0 7 8 4 7 4 1 3 9 0 6 8 0 2 9 3 4 5 5 3 7 7 4 3 6 9 7 9 3 2 0 7 7 5\n",
      "  5 6 9 0 7 3 2 1 1 4 4 2 0 1 2 7 5 3 1 8 6 0 9 6 7 7 2 9 9 4 8 3 0 1 5 7\n",
      "  9 0 7]\n",
      " [7 6 0 7 8 4 7 4 1 3 9 0 6 8 0 2 9 3 7 5 5 3 7 7 4 3 6 9 7 9 3 2 0 7 7 5\n",
      "  5 6 9 0 4 3 2 1 1 4 7 2 0 1 2 7 5 3 1 8 6 0 9 6 7 7 2 9 9 4 8 3 0 1 5 4\n",
      "  9 0 7]]\n"
     ]
    }
   ],
   "source": [
    "#Printing unique predictions\n",
    "predictions = []\n",
    "parametersUsed = []\n",
    "parameterCounts = {}\n",
    "\n",
    "for knn in bestKNN:\n",
    "    predictions.append(knn.predict(X_test))\n",
    "    parametersUsed.append(knn.get_params())\n",
    "\n",
    "parameterNames = list(parametersUsed[0].keys())\n",
    "for name in parameterNames:\n",
    "    parameterCounts[name] = []\n",
    "    for parameterSet in parametersUsed:\n",
    "        for parameter in parameterSet:\n",
    "            if parameter == name:\n",
    "                parameterCounts[name].append(parameterSet[parameter])\n",
    "counts = {}\n",
    "uniquePredictions = np.unique(predictions, axis=0)\n",
    "print(\"Unique brand Predictions out of all combinations:\\n\", uniquePredictions)"
   ]
  },
  {
   "cell_type": "code",
   "execution_count": 22,
   "metadata": {},
   "outputs": [],
   "source": [
    "for parameter in parameterCounts:\n",
    "    counts[parameter] = dict(Counter(parameterCounts[parameter]).items())"
   ]
  },
  {
   "cell_type": "code",
   "execution_count": 23,
   "metadata": {},
   "outputs": [
    {
     "name": "stdout",
     "output_type": "stream",
     "text": [
      "{'algorithm': 'auto', 'leaf_size': 10, 'metric': 'euclidean', 'metric_params': None, 'n_jobs': None, 'n_neighbors': 7, 'p': 2, 'weights': 'distance'}\n"
     ]
    }
   ],
   "source": [
    "#Choose one Max value combination \n",
    "test = {}\n",
    "parametersToUse = {}\n",
    "\n",
    "for parameter in counts:\n",
    "    test[parameter] = max(counts[parameter].items(), key=operator.itemgetter(1))[0]\n",
    "if test in parametersUsed:\n",
    "    parametersToUse = test\n",
    "else:\n",
    "    parametersToUse = random.choice(parametersUsed)\n",
    "print(parametersToUse)"
   ]
  },
  {
   "cell_type": "code",
   "execution_count": 32,
   "metadata": {},
   "outputs": [
    {
     "name": "stdout",
     "output_type": "stream",
     "text": [
      "0.85\n"
     ]
    }
   ],
   "source": [
    "from warnings import simplefilter\n",
    "simplefilter(action='ignore', category=FutureWarning)\n",
    "#K Fold Cross validation(k=5)\n",
    "knnToUse = KNeighborsClassifier().set_params(**parametersToUse)\n",
    "kfScores = []\n",
    "kfScore = 0\n",
    "kf = KFold(n_splits=5, shuffle=True) # Define the split into 5 folds\n",
    "kf.get_n_splits(X)\n",
    "for train_index, test_index in kf.split(X):\n",
    "    X_train, X_test = X.iloc[train_index], X.iloc[test_index]\n",
    "    Y_train, Y_test = Y[train_index], Y[test_index]\n",
    "    knnToUse.fit(X_train, Y_train)\n",
    "    kfScore += knnToUse.score(X_test, Y_test)\n",
    "\n",
    "kfScore = kfScore/kf.get_n_splits(X)\n",
    "kfCrossScores = cross_val_score(knnToUse, X, Y)\n",
    "kfPredictions = cross_val_predict(knnToUse, X, Y)\n",
    "#kfAccuracy = r2_score(Y, kfPredictions)\n",
    "print(kfScore)"
   ]
  },
  {
   "cell_type": "code",
   "execution_count": 31,
   "metadata": {},
   "outputs": [
    {
     "name": "stdout",
     "output_type": "stream",
     "text": [
      "0.8733333333333333\n"
     ]
    }
   ],
   "source": [
    "#Leave one out method\n",
    "looScore = 0\n",
    "loo = LeaveOneOut()\n",
    "loo.get_n_splits(X)\n",
    "for train_index, test_index in loo.split(X):\n",
    "    X_train, X_test = X.iloc[train_index], X.iloc[test_index]\n",
    "    Y_train, Y_test = Y[train_index], Y[test_index]\n",
    "    knnToUse.fit(X_train, Y_train)\n",
    "    looScore += knnToUse.score(X_test, Y_test)\n",
    "\n",
    "looScore = looScore/loo.get_n_splits(X)\n",
    "print(looScore)"
   ]
  }
 ],
 "metadata": {
  "kernelspec": {
   "display_name": "Python 3",
   "language": "python",
   "name": "python3"
  },
  "language_info": {
   "codemirror_mode": {
    "name": "ipython",
    "version": 3
   },
   "file_extension": ".py",
   "mimetype": "text/x-python",
   "name": "python",
   "nbconvert_exporter": "python",
   "pygments_lexer": "ipython3",
   "version": "3.7.3"
  }
 },
 "nbformat": 4,
 "nbformat_minor": 2
}
